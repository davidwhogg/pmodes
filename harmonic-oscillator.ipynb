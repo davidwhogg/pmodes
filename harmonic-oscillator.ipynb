{
 "cells": [
  {
   "cell_type": "code",
   "execution_count": null,
   "metadata": {
    "collapsed": true
   },
   "outputs": [],
   "source": [
    "import numpy as np\n",
    "import matplotlib.pyplot as plt\n",
    "np.random.seed(42)\n",
    "%matplotlib inline"
   ]
  },
  {
   "cell_type": "code",
   "execution_count": null,
   "metadata": {
    "collapsed": true
   },
   "outputs": [],
   "source": [
    "omega = 2. * np.pi / (5.4 * 60.) # s^-1 ; ang freq for 5.4 minute oscillation\n",
    "gamma = 1. / (2 * 24. * 60. * 60.) # s^-1 ; 2-day damping timescale\n",
    "dt = 50. # seconds - approximate Nyquist sampling\n",
    "driving_amp = np.sqrt(0.19**2 * gamma * dt) # kick amplitude to get 19 cm/s amplitude over coherence time"
   ]
  },
  {
   "cell_type": "code",
   "execution_count": null,
   "metadata": {
    "collapsed": true
   },
   "outputs": [],
   "source": [
    "def step_forward_matrix(omega, gamma, dt):\n",
    "    # return [x, rv] after time dt\n",
    "    Minv = np.linalg.inv(np.array([[1, 0], [-0.5 * gamma, omega]]))\n",
    "    A = np.array([[np.cos(omega * dt),\n",
    "                   np.sin(omega * dt)],\n",
    "                  [-omega * np.sin(omega * dt) - 0.5 * gamma * np.cos(omega * dt),\n",
    "                    omega * np.cos(omega * dt) - 0.5 * gamma * np.sin(omega * dt)]])\n",
    "    A *= np.exp(-0.5 * gamma * dt)\n",
    "    return np.dot(A, Minv)"
   ]
  },
  {
   "cell_type": "code",
   "execution_count": null,
   "metadata": {
    "collapsed": true
   },
   "outputs": [],
   "source": [
    "def take_one_step(x0, v0, step_half_matrix, step_full_matrix, driving_amp):\n",
    "    # returns x0.5, v0.5 (prediction for next observation time)\n",
    "    # and x1, v1 (starting position post-kick)\n",
    "    x_half, v_half = np.dot(step_half_matrix, (x0,v0))\n",
    "    x_one, v_one = np.dot(step_full_matrix, (x0,v0))\n",
    "    v_one += driving_amp * np.random.normal(0.,1.)\n",
    "    return x_half, v_half, x_one, v_one"
   ]
  },
  {
   "cell_type": "code",
   "execution_count": null,
   "metadata": {
    "collapsed": true
   },
   "outputs": [],
   "source": [
    "def take_many_steps(omega, gamma, dt, driving_amp, timescale=365.):\n",
    "    # timescale is number of days to observe\n",
    "    assert dt < np.pi / omega, \"ERROR: you're not well-sampled. decrease dt.\"\n",
    "    \n",
    "    ts = dt * np.arange(timescale * 24. * 3600. / dt)\n",
    "    xs = np.zeros_like(ts)\n",
    "    rvs = np.zeros_like(ts)\n",
    "    \n",
    "    step_half_matrix = step_forward_matrix(omega, gamma, 0.5 * dt)\n",
    "    step_full_matrix = step_forward_matrix(omega, gamma, dt)\n",
    "    x0, v0 = 0., 0.1\n",
    "    for i,t in enumerate(ts):\n",
    "        xs[i], rvs[i], x0, v0 = take_one_step(x0, v0, step_half_matrix, step_full_matrix, driving_amp)\n",
    "    return ts, xs, rvs"
   ]
  },
  {
   "cell_type": "code",
   "execution_count": null,
   "metadata": {
    "collapsed": true
   },
   "outputs": [],
   "source": [
    "dt = 2. * 60. # 2-minute cadence\n",
    "timespan = 365.*4.1 # Kepler\n",
    "ts, xs, rvs = take_many_steps(omega, gamma, dt, driving_amp, timescale=timespan)"
   ]
  },
  {
   "cell_type": "code",
   "execution_count": null,
   "metadata": {
    "collapsed": false
   },
   "outputs": [],
   "source": [
    "plt.plot(ts/86400., rvs, 'k,')\n",
    "plt.xlim([0.,5.]);"
   ]
  },
  {
   "cell_type": "markdown",
   "metadata": {},
   "source": [
    "Ramp-up period (only makes sense if you are initializing at exactly zero)."
   ]
  },
  {
   "cell_type": "code",
   "execution_count": null,
   "metadata": {
    "collapsed": false
   },
   "outputs": [],
   "source": [
    "plt.plot(ts/86400., rvs, 'k.')\n",
    "plt.xlim([20.,20.1])\n",
    "plt.ylim([-0.3,0.3]);"
   ]
  },
  {
   "cell_type": "markdown",
   "metadata": {},
   "source": [
    "Looks coherent over short timescales."
   ]
  },
  {
   "cell_type": "code",
   "execution_count": null,
   "metadata": {
    "collapsed": false
   },
   "outputs": [],
   "source": [
    "powers = np.fft.fft(rvs)\n",
    "real_powers = (powers * powers.conj()).real\n",
    "omegas = np.fft.fftfreq(rvs.shape[-1]) / dt * 2. * np.pi\n",
    "plt.plot(omegas, real_powers, 'k-')\n",
    "plt.xlim([0.0193,0.0195])\n",
    "plt.axvline(omega, alpha=0.5, c='r')\n",
    "plt.axvline(omega-gamma, alpha=0.5, c='b')\n",
    "plt.axvline(omega+gamma, alpha=0.5, c='b');"
   ]
  },
  {
   "cell_type": "markdown",
   "metadata": {},
   "source": [
    "Tests: turning off driving and/or damping makes the FT very clean."
   ]
  },
  {
   "cell_type": "markdown",
   "metadata": {},
   "source": [
    "Now do this for many modes (drawing from the envelope of modes & amplitudes in Chaplin paper) & co-add all RVs"
   ]
  },
  {
   "cell_type": "code",
   "execution_count": null,
   "metadata": {
    "collapsed": true
   },
   "outputs": [],
   "source": []
  }
 ],
 "metadata": {
  "kernelspec": {
   "display_name": "Python 3",
   "language": "python",
   "name": "python3"
  },
  "language_info": {
   "codemirror_mode": {
    "name": "ipython",
    "version": 3
   },
   "file_extension": ".py",
   "mimetype": "text/x-python",
   "name": "python",
   "nbconvert_exporter": "python",
   "pygments_lexer": "ipython3",
   "version": "3.6.0"
  }
 },
 "nbformat": 4,
 "nbformat_minor": 2
}
