{
 "cells": [
  {
   "cell_type": "code",
   "execution_count": null,
   "metadata": {
    "collapsed": true
   },
   "outputs": [],
   "source": [
    "import numpy as np\n",
    "import matplotlib.pyplot as plt\n",
    "from scipy.interpolate import interp1d\n",
    "np.random.seed(42)\n",
    "%matplotlib inline"
   ]
  },
  {
   "cell_type": "code",
   "execution_count": null,
   "metadata": {
    "collapsed": true
   },
   "outputs": [],
   "source": [
    "omega = 2. * np.pi / (5.4 * 60.) # s^-1 ; ang freq for 5.4 minute oscillation\n",
    "gamma = 1. / (2 * 24. * 60. * 60.) # s^-1 ; 2-day damping timescale\n",
    "dt = 50. # seconds - approximate Nyquist sampling\n",
    "driving_amp = np.sqrt(0.19**2 * gamma * dt) # kick amplitude to get 19 cm/s amplitude over coherence time"
   ]
  },
  {
   "cell_type": "code",
   "execution_count": null,
   "metadata": {
    "collapsed": true
   },
   "outputs": [],
   "source": [
    "def step_forward_matrix(omega, gamma, dt):\n",
    "    # return [x, rv] after time dt\n",
    "    Minv = np.linalg.inv(np.array([[1, 0], [-0.5 * gamma, omega]]))\n",
    "    A = np.array([[np.cos(omega * dt),\n",
    "                   np.sin(omega * dt)],\n",
    "                  [-omega * np.sin(omega * dt) - 0.5 * gamma * np.cos(omega * dt),\n",
    "                    omega * np.cos(omega * dt) - 0.5 * gamma * np.sin(omega * dt)]])\n",
    "    A *= np.exp(-0.5 * gamma * dt)\n",
    "    return np.dot(A, Minv)"
   ]
  },
  {
   "cell_type": "code",
   "execution_count": null,
   "metadata": {
    "collapsed": true
   },
   "outputs": [],
   "source": [
    "def take_one_step(x0, v0, step_half_matrix, step_full_matrix, driving_amp):\n",
    "    # returns x0.5, v0.5 (prediction for next observation time)\n",
    "    # and x1, v1 (starting position post-kick)\n",
    "    x_half, v_half = np.dot(step_half_matrix, (x0,v0))\n",
    "    x_one, v_one = np.dot(step_full_matrix, (x0,v0))\n",
    "    v_one += driving_amp * np.random.normal(0.,1.)\n",
    "    return x_half, v_half, x_one, v_one"
   ]
  },
  {
   "cell_type": "code",
   "execution_count": null,
   "metadata": {
    "collapsed": true
   },
   "outputs": [],
   "source": [
    "def take_many_steps(omega, gamma, dt, driving_amp, timescale=365.):\n",
    "    # timescale is number of days to observe\n",
    "    assert dt < np.pi / omega, \"ERROR: you're not well-sampled. decrease dt.\"\n",
    "    if dt > 0.5 * np.pi / omega: print(\"WARNING: your coarse time spacing makes even cubic spline risky\")\n",
    "\n",
    "    ts = dt * np.arange(timescale * 24. * 3600. / dt)\n",
    "    xs = np.zeros_like(ts)\n",
    "    rvs = np.zeros_like(ts)\n",
    "    \n",
    "    step_half_matrix = step_forward_matrix(omega, gamma, 0.5 * dt)\n",
    "    step_full_matrix = step_forward_matrix(omega, gamma, dt)\n",
    "    x0, v0 = 0., 0.\n",
    "    for i,t in enumerate(ts):\n",
    "        xs[i], rvs[i], x0, v0 = take_one_step(x0, v0, step_half_matrix, step_full_matrix, driving_amp)\n",
    "    return ts, xs, rvs"
   ]
  },
  {
   "cell_type": "code",
   "execution_count": null,
   "metadata": {
    "collapsed": true
   },
   "outputs": [],
   "source": [
    "dt = 1. * 60. # 1-minute cadence\n",
    "timespan = 365. # not-Kepler\n",
    "ts, xs, rvs = take_many_steps(omega, gamma, dt, driving_amp, timescale=timespan)"
   ]
  },
  {
   "cell_type": "code",
   "execution_count": null,
   "metadata": {
    "collapsed": false
   },
   "outputs": [],
   "source": [
    "plt.plot(ts/86400., rvs, 'k,')\n",
    "plt.xlim([0.,10.]);"
   ]
  },
  {
   "cell_type": "markdown",
   "metadata": {},
   "source": [
    "Ramp-up period (only makes sense if you are initializing at exactly zero)."
   ]
  },
  {
   "cell_type": "code",
   "execution_count": null,
   "metadata": {
    "collapsed": false
   },
   "outputs": [],
   "source": [
    "plt.plot(ts/86400., rvs, 'k.')\n",
    "plt.xlim([20.,20.1])\n",
    "plt.ylim([-0.3,0.3]);"
   ]
  },
  {
   "cell_type": "markdown",
   "metadata": {},
   "source": [
    "Looks coherent over short timescales."
   ]
  },
  {
   "cell_type": "code",
   "execution_count": null,
   "metadata": {
    "collapsed": false
   },
   "outputs": [],
   "source": [
    "powers = np.fft.fft(rvs)\n",
    "real_powers = (powers * powers.conj()).real\n",
    "omegas = np.fft.fftfreq(rvs.shape[-1]) / dt * 2. * np.pi\n",
    "plt.plot(omegas, real_powers, 'k-')\n",
    "plt.xlim([0.0193,0.0195])\n",
    "plt.axvline(omega, alpha=0.5, c='r')\n",
    "plt.axvline(omega-gamma, alpha=0.5, c='b')\n",
    "plt.axvline(omega+gamma, alpha=0.5, c='b');"
   ]
  },
  {
   "cell_type": "markdown",
   "metadata": {},
   "source": [
    "Tests: turning off driving and/or damping makes the FT very clean."
   ]
  },
  {
   "cell_type": "markdown",
   "metadata": {},
   "source": [
    "Hogg says that we should not calculate this on a very fine grid because numerical issues may come into play; instead, we can generate a fine grid and use cubic spline interpolation to populate it from the coarser samples (this is fine because of the Nyquist theorem which says at our sampling we already have all the necessary info).\n",
    "\n",
    "Test this by taking the \"jagged\" timeseries between 20.0-20.1 days and doing an interpolation onto a much finer grid; ideally this will look like a sinusoid."
   ]
  },
  {
   "cell_type": "code",
   "execution_count": null,
   "metadata": {
    "collapsed": false
   },
   "outputs": [],
   "source": [
    "inds = (ts/86400. > 20.) & (ts/86400. < 20.02)\n",
    "short_ts = ts[inds]\n",
    "short_rvs = rvs[inds]\n",
    "plt.plot(short_ts/86400., short_rvs, 'k.')\n",
    "interp = interp1d(short_ts, short_rvs, kind='cubic', assume_sorted=True)\n",
    "xs = np.arange(np.min(short_ts), np.max(short_ts), 0.0005)\n",
    "plt.plot(xs/86400., interp(xs), alpha=0.4);"
   ]
  },
  {
   "cell_type": "markdown",
   "metadata": {},
   "source": [
    "Yep!"
   ]
  },
  {
   "cell_type": "code",
   "execution_count": null,
   "metadata": {
    "collapsed": true
   },
   "outputs": [],
   "source": [
    "def simulate_exposure(ts, rvs, start_time, exp_time):\n",
    "    interp = interp1d(ts, rvs, kind='cubic', assume_sorted=True)\n",
    "    tiny = 0.1 # 100 ms\n",
    "    fine_ts = np.arange(start_time, start_time+exp_time, tiny) # fine grid\n",
    "    fine_rvs = interp(fine_ts)\n",
    "    return np.sum(fine_rvs)/len(fine_rvs) # ASSUMES EVEN WEIGHTING - technically incorrect for last point"
   ]
  },
  {
   "cell_type": "code",
   "execution_count": null,
   "metadata": {
    "collapsed": false
   },
   "outputs": [],
   "source": [
    "plt.plot(short_ts/86400., short_rvs, 'k.')\n",
    "interp = interp1d(short_ts, short_rvs, kind='cubic', assume_sorted=True)\n",
    "xs = np.arange(np.min(short_ts), np.max(short_ts), 0.0005)\n",
    "plt.plot(xs/86400., interp(xs), alpha=0.4)\n",
    "start_times = np.array([20.006, 20.0145]) * 86400. # seconds\n",
    "exp_time = 120. # seconds\n",
    "for st in start_times:\n",
    "    plt.axvspan(st/86400., (st+exp_time)/86400., alpha=0.3, facecolor='orange')\n",
    "    plt.scatter((st+exp_time/2)/86400., simulate_exposure(short_ts,short_rvs,st,exp_time),\n",
    "               c='r', s=16);"
   ]
  },
  {
   "cell_type": "markdown",
   "metadata": {},
   "source": [
    "Now do this for many modes (drawing from the envelope of modes & amplitudes in Chaplin paper) & co-add all RVs\n",
    "\n",
    "NOTE: I made up the amplitude based on Chaplin figure because their given a_max didn't reproduce Figure 2. There must be something about powers and square roots that I'm getting wrong!"
   ]
  },
  {
   "cell_type": "code",
   "execution_count": null,
   "metadata": {
    "collapsed": true
   },
   "outputs": [],
   "source": [
    "#freq_grid = 1./(np.arange(4.,8.,0.05) * 60.) # frequencies in Hz\n",
    "a_max = 0.55 # amplitude of central mode in m/s\n",
    "nu_max = 3.1e-3 # peak frequency in Hz\n",
    "c_env = 0.331e-3 # envelope width in Hz\n",
    "delta_nu = 0.00013 # Hz\n",
    "freq_grid = np.arange(nu_max - 0.001, nu_max + 0.001, delta_nu) # magic numbers\n",
    "amp_grid = a_max**2 * np.exp(-(freq_grid-nu_max)**2/(2.*c_env**2)) # amplitudes in m/s\n",
    "driving_amp_grid = np.sqrt(amp_grid * gamma * dt)"
   ]
  },
  {
   "cell_type": "code",
   "execution_count": null,
   "metadata": {
    "collapsed": true
   },
   "outputs": [],
   "source": [
    "l_grid = np.append(np.zeros_like(freq_grid), np.ones_like(freq_grid))\n",
    "freq_grid = np.append(freq_grid, freq_grid)\n",
    "freq_grid += l_grid * 0.5 * delta_nu # Hogg!\n",
    "omega_grid = 2.*np.pi*freq_grid # angular frequencies\n",
    "amp_grid = a_max**2 * np.exp(-(freq_grid-nu_max)**2/(2.*c_env**2)) # amplitudes in m/s\n",
    "amp_grid -= 0.4 * amp_grid * l_grid # Hogg!\n",
    "driving_amp_grid = np.sqrt(amp_grid * gamma * dt)"
   ]
  },
  {
   "cell_type": "code",
   "execution_count": null,
   "metadata": {
    "collapsed": false
   },
   "outputs": [],
   "source": [
    "plt.plot(freq_grid * 1.e6, np.sqrt(amp_grid), 'k.')\n",
    "plt.ylabel('p-mode amplitude (m s$^{-1}$)')\n",
    "plt.xlabel('frequency ($\\mu$Hz)');"
   ]
  },
  {
   "cell_type": "code",
   "execution_count": null,
   "metadata": {
    "collapsed": false
   },
   "outputs": [],
   "source": [
    "from tqdm import tqdm\n",
    "\n",
    "dt = 1. * 60. # 1-minute cadence\n",
    "timespan = 365. # a year\n",
    "\n",
    "ts = None\n",
    "for omega, driving_amp in tqdm(zip(omega_grid,driving_amp_grid)):\n",
    "    sim = take_many_steps(omega, gamma, dt, driving_amp, timescale=timespan)\n",
    "    if ts is None: \n",
    "        ts = sim[0]\n",
    "        xs = np.zeros_like(ts)\n",
    "        rvs = np.zeros_like(ts)\n",
    "    assert np.array_equal(sim[0], ts)\n",
    "    xs += sim[1]\n",
    "    rvs += sim[2]"
   ]
  },
  {
   "cell_type": "markdown",
   "metadata": {},
   "source": [
    "Same simulation for just the strongest mode:"
   ]
  },
  {
   "cell_type": "code",
   "execution_count": null,
   "metadata": {
    "collapsed": true
   },
   "outputs": [],
   "source": [
    "I_onemode = np.argmax(driving_amp_grid)\n",
    "omega_onemode = omega_grid[I_onemode]\n",
    "amp_onemode = amp_grid[I_onemode]\n",
    "driving_amp_onemode = driving_amp_grid[I_onemode]\n",
    "sim = take_many_steps(omega_onemode, gamma, dt, driving_amp_onemode, timescale=timespan)\n",
    "ts_onemode, xs_onemode, rvs_onemode = sim"
   ]
  },
  {
   "cell_type": "code",
   "execution_count": null,
   "metadata": {
    "collapsed": false
   },
   "outputs": [],
   "source": [
    "plt.plot(ts/86400., rvs, 'k,')\n",
    "#plt.xlim([0.,10.]);\n",
    "#plt.ylim([-0.5,0.5]);\n",
    "np.std(rvs)"
   ]
  },
  {
   "cell_type": "code",
   "execution_count": null,
   "metadata": {
    "collapsed": false
   },
   "outputs": [],
   "source": [
    "powers = np.fft.fft(rvs)\n",
    "real_powers = (powers * powers.conj()).real\n",
    "fs = np.fft.fftfreq(rvs.shape[-1]) / dt\n",
    "plt.plot(fs*1e6, real_powers/1e6, 'k-')\n",
    "plt.xlim([1000,5000]);\n",
    "#plt.xlim([0.,0.03]);"
   ]
  },
  {
   "cell_type": "markdown",
   "metadata": {},
   "source": [
    "Simulate some exposure times (over a month of nightly observations) and see what the RMS is!\n",
    "\n",
    "Note: in this case we are neglecting any sources of noise. If we were to add in photon noise then we'd probably want to compensate with more exposures per night for the shorter exposure times such that the effective SNR is the same for all cases."
   ]
  },
  {
   "cell_type": "code",
   "execution_count": null,
   "metadata": {
    "collapsed": false
   },
   "outputs": [],
   "source": [
    "# HOGG SAY: Shouldn't the 3600 in the next line be a 24??\n",
    "obs_ts = np.arange(30) + 0.5 + np.random.normal(0.,2.,30)/3600. # nightly plus/minus ~2 hours (days)\n",
    "obs_ts *= 24. * 3600. # seconds\n",
    "exp_times = np.arange(2,20,0.5) * 60.\n",
    "stds = []\n",
    "for exp_time in tqdm(exp_times):\n",
    "    obs_rvs = [simulate_exposure(ts_onemode, rvs_onemode, tt-exp_time/2., exp_time) for tt in obs_ts]\n",
    "    stds.append(np.std(obs_rvs))"
   ]
  },
  {
   "cell_type": "code",
   "execution_count": null,
   "metadata": {
    "collapsed": false
   },
   "outputs": [],
   "source": [
    "plt.loglog(exp_times/60., stds, 'k.')\n",
    "plt.xlabel('Exposure time (minutes)')\n",
    "plt.ylabel('p-mode RMS signal (m s$^{-1}$)')\n",
    "plt.title('single-mode star');"
   ]
  },
  {
   "cell_type": "markdown",
   "metadata": {},
   "source": [
    "As expected, for a single mode you really can reduce the p-mode signal by orders of magnitude if you expose at the characteristic period of that mode."
   ]
  },
  {
   "cell_type": "code",
   "execution_count": null,
   "metadata": {
    "collapsed": false
   },
   "outputs": [],
   "source": [
    "stds_all = []\n",
    "for exp_time in tqdm(exp_times):\n",
    "    obs_rvs = [simulate_exposure(ts, rvs, tt-exp_time/2., exp_time) for tt in obs_ts]\n",
    "    stds_all.append(np.std(obs_rvs))"
   ]
  },
  {
   "cell_type": "code",
   "execution_count": null,
   "metadata": {
    "collapsed": false
   },
   "outputs": [],
   "source": [
    "plt.loglog(exp_times/60., stds_all, 'k.')\n",
    "plt.xlabel('Exposure time (minutes)')\n",
    "plt.ylabel('p-mode RMS signal (m s$^{-1}$)')\n",
    "plt.title('multi-mode star');"
   ]
  },
  {
   "cell_type": "markdown",
   "metadata": {},
   "source": [
    "This looks a lot like the Chaplin results! Yay!"
   ]
  },
  {
   "cell_type": "markdown",
   "metadata": {},
   "source": [
    "#### simulating data with celerite \n",
    "one-mode version first:"
   ]
  },
  {
   "cell_type": "code",
   "execution_count": null,
   "metadata": {
    "collapsed": false
   },
   "outputs": [],
   "source": [
    "import celerite as celery\n",
    "celery.__version__"
   ]
  },
  {
   "cell_type": "code",
   "execution_count": null,
   "metadata": {
    "collapsed": true
   },
   "outputs": [],
   "source": [
    "log_S0 = np.log(driving_amp_onemode**2 / (dt * omega_onemode)) # velocity variance * kicks / radian\n",
    "log_Q = np.log(omega_onemode/gamma)\n",
    "log_omega0 = np.log(omega_onemode)\n",
    "kernel_onemode = celery.terms.SHOTerm(log_S0, log_Q, log_omega0)"
   ]
  },
  {
   "cell_type": "code",
   "execution_count": null,
   "metadata": {
    "collapsed": false
   },
   "outputs": [],
   "source": [
    "np.exp(log_Q)"
   ]
  },
  {
   "cell_type": "code",
   "execution_count": null,
   "metadata": {
    "collapsed": true
   },
   "outputs": [],
   "source": [
    "gp = celery.GP(kernel_onemode)\n",
    "gp.compute(ts_onemode)\n",
    "rvs_gp_onemode = gp.sample()"
   ]
  },
  {
   "cell_type": "code",
   "execution_count": null,
   "metadata": {
    "collapsed": false
   },
   "outputs": [],
   "source": [
    "powers = np.fft.fft(rvs_gp_onemode)\n",
    "real_powers = (powers * powers.conj()).real\n",
    "fs = np.fft.fftfreq(rvs.shape[-1]) / dt\n",
    "plt.plot(fs*1e6, real_powers/1e6, 'k-')\n",
    "plt.xlim([3120,3160]);"
   ]
  },
  {
   "cell_type": "markdown",
   "metadata": {},
   "source": [
    "And for many modes:"
   ]
  },
  {
   "cell_type": "code",
   "execution_count": null,
   "metadata": {
    "collapsed": true
   },
   "outputs": [],
   "source": [
    "log_S0_grid = [np.log(d**2 / (dt * o)) for o,d in zip(omega_grid,driving_amp_grid)]\n",
    "kernel = None\n",
    "for o,lS in zip(omega_grid,log_S0_grid):\n",
    "    if kernel is None:\n",
    "        kernel = celery.terms.SHOTerm(lS, np.log(o/gamma), np.log(o))\n",
    "    else:\n",
    "        kernel += celery.terms.SHOTerm(lS, np.log(o/gamma), np.log(o)) "
   ]
  },
  {
   "cell_type": "code",
   "execution_count": null,
   "metadata": {
    "collapsed": true
   },
   "outputs": [],
   "source": [
    "gp = celery.GP(kernel)\n",
    "gp.compute(ts)\n",
    "rvs_gp = gp.sample()"
   ]
  },
  {
   "cell_type": "code",
   "execution_count": null,
   "metadata": {
    "collapsed": false
   },
   "outputs": [],
   "source": [
    "powers = np.fft.fft(rvs_gp)\n",
    "real_powers = (powers * powers.conj()).real\n",
    "fs = np.fft.fftfreq(rvs.shape[-1]) / dt\n",
    "plt.plot(fs*1e6, real_powers/1e6, 'k-')\n",
    "plt.xlim([1000,5000]);"
   ]
  },
  {
   "cell_type": "markdown",
   "metadata": {},
   "source": [
    "There are some scaling/units issues but the FFTs generally look extremely similar to those produced by our method - yay!"
   ]
  },
  {
   "cell_type": "code",
   "execution_count": null,
   "metadata": {
    "collapsed": true
   },
   "outputs": [],
   "source": []
  }
 ],
 "metadata": {
  "kernelspec": {
   "display_name": "Python 3",
   "language": "python",
   "name": "python3"
  },
  "language_info": {
   "codemirror_mode": {
    "name": "ipython",
    "version": 3
   },
   "file_extension": ".py",
   "mimetype": "text/x-python",
   "name": "python",
   "nbconvert_exporter": "python",
   "pygments_lexer": "ipython3",
   "version": "3.6.0"
  }
 },
 "nbformat": 4,
 "nbformat_minor": 2
}
